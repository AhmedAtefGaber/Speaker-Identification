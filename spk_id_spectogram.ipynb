{
  "nbformat": 4,
  "nbformat_minor": 0,
  "metadata": {
    "colab": {
      "name": "spk_id_spectogram.ipynb",
      "provenance": [],
      "include_colab_link": true
    },
    "kernelspec": {
      "name": "python3",
      "display_name": "Python 3"
    },
    "accelerator": "GPU"
  },
  "cells": [
    {
      "cell_type": "markdown",
      "metadata": {
        "id": "view-in-github",
        "colab_type": "text"
      },
      "source": [
        "<a href=\"https://colab.research.google.com/github/AhmedAtefGaber/Speaker-Identification/blob/master/spk_id_spectogram.ipynb\" target=\"_parent\"><img src=\"https://colab.research.google.com/assets/colab-badge.svg\" alt=\"Open In Colab\"/></a>"
      ]
    },
    {
      "cell_type": "code",
      "metadata": {
        "id": "6IWSZBNnRjyX",
        "colab_type": "code",
        "outputId": "e819c95b-f5df-48be-8ed3-ffffa0eeb14f",
        "colab": {
          "base_uri": "https://localhost:8080/",
          "height": 104
        }
      },
      "source": [
        "!pip install pydub"
      ],
      "execution_count": 0,
      "outputs": [
        {
          "output_type": "stream",
          "text": [
            "Collecting pydub\n",
            "  Downloading https://files.pythonhosted.org/packages/79/db/eaf620b73a1eec3c8c6f8f5b0b236a50f9da88ad57802154b7ba7664d0b8/pydub-0.23.1-py2.py3-none-any.whl\n",
            "Installing collected packages: pydub\n",
            "Successfully installed pydub-0.23.1\n"
          ],
          "name": "stdout"
        }
      ]
    },
    {
      "cell_type": "code",
      "metadata": {
        "id": "dN1WwgNIsW_q",
        "colab_type": "code",
        "outputId": "b2747a39-bd03-4c80-d37a-1b85edc23e71",
        "colab": {
          "base_uri": "https://localhost:8080/",
          "height": 222
        }
      },
      "source": [
        "!pip install librosa"
      ],
      "execution_count": 0,
      "outputs": [
        {
          "output_type": "stream",
          "text": [
            "Requirement already satisfied: librosa in /usr/local/lib/python3.6/dist-packages (0.6.3)\n",
            "Requirement already satisfied: joblib>=0.12 in /usr/local/lib/python3.6/dist-packages (from librosa) (0.13.2)\n",
            "Requirement already satisfied: decorator>=3.0.0 in /usr/local/lib/python3.6/dist-packages (from librosa) (4.4.0)\n",
            "Requirement already satisfied: scikit-learn!=0.19.0,>=0.14.0 in /usr/local/lib/python3.6/dist-packages (from librosa) (0.21.3)\n",
            "Requirement already satisfied: numba>=0.38.0 in /usr/local/lib/python3.6/dist-packages (from librosa) (0.40.1)\n",
            "Requirement already satisfied: audioread>=2.0.0 in /usr/local/lib/python3.6/dist-packages (from librosa) (2.1.8)\n",
            "Requirement already satisfied: scipy>=1.0.0 in /usr/local/lib/python3.6/dist-packages (from librosa) (1.3.1)\n",
            "Requirement already satisfied: six>=1.3 in /usr/local/lib/python3.6/dist-packages (from librosa) (1.12.0)\n",
            "Requirement already satisfied: resampy>=0.2.0 in /usr/local/lib/python3.6/dist-packages (from librosa) (0.2.2)\n",
            "Requirement already satisfied: numpy>=1.8.0 in /usr/local/lib/python3.6/dist-packages (from librosa) (1.16.5)\n",
            "Requirement already satisfied: llvmlite>=0.25.0dev0 in /usr/local/lib/python3.6/dist-packages (from numba>=0.38.0->librosa) (0.29.0)\n"
          ],
          "name": "stdout"
        }
      ]
    },
    {
      "cell_type": "code",
      "metadata": {
        "id": "1gybYfg5RxFQ",
        "colab_type": "code",
        "colab": {}
      },
      "source": [
        "import tensorflow as tf\n",
        "from tensorflow.keras.preprocessing.text import Tokenizer\n",
        "from tensorflow.keras.preprocessing.sequence import pad_sequences\n",
        "from tensorflow.keras import regularizers\n",
        "import matplotlib.pyplot as plt\n",
        "import IPython\n",
        "import numpy as np\n",
        "import glob as glob \n",
        "from scipy.io import wavfile\n",
        "import librosa as librosa\n",
        "import os\n",
        "import random\n",
        "from scipy.io import wavfile\n",
        "from sklearn.utils import shuffle\n",
        "from pydub import AudioSegment"
      ],
      "execution_count": 0,
      "outputs": []
    },
    {
      "cell_type": "code",
      "metadata": {
        "id": "fONcogfzRysh",
        "colab_type": "code",
        "outputId": "303a9f47-acd2-45bc-c1e2-62c77138dbb8",
        "colab": {
          "base_uri": "https://localhost:8080/",
          "height": 121
        }
      },
      "source": [
        "from google.colab import drive\n",
        "drive.mount('/content/drive')"
      ],
      "execution_count": 0,
      "outputs": [
        {
          "output_type": "stream",
          "text": [
            "Go to this URL in a browser: https://accounts.google.com/o/oauth2/auth?client_id=947318989803-6bn6qk8qdgf4n4g3pfee6491hc0brc4i.apps.googleusercontent.com&redirect_uri=urn%3Aietf%3Awg%3Aoauth%3A2.0%3Aoob&scope=email%20https%3A%2F%2Fwww.googleapis.com%2Fauth%2Fdocs.test%20https%3A%2F%2Fwww.googleapis.com%2Fauth%2Fdrive%20https%3A%2F%2Fwww.googleapis.com%2Fauth%2Fdrive.photos.readonly%20https%3A%2F%2Fwww.googleapis.com%2Fauth%2Fpeopleapi.readonly&response_type=code\n",
            "\n",
            "Enter your authorization code:\n",
            "··········\n",
            "Mounted at /content/drive\n"
          ],
          "name": "stdout"
        }
      ]
    },
    {
      "cell_type": "code",
      "metadata": {
        "id": "XJuceTDDsrCV",
        "colab_type": "code",
        "colab": {}
      },
      "source": [
        "input_length = 16000\n",
        "n_mels = 320"
      ],
      "execution_count": 0,
      "outputs": []
    },
    {
      "cell_type": "code",
      "metadata": {
        "id": "8YO4gskW1LU-",
        "colab_type": "code",
        "colab": {}
      },
      "source": [
        "def preprocess_audio_mel_T(audio, sample_rate=16000, window_size=20,step_size=10, eps=1e-10):\n",
        "    mel_spec = librosa.feature.melspectrogram(y=audio, sr=sample_rate, n_mels= n_mels)\n",
        "    mel_db = (librosa.power_to_db(mel_spec, ref=np.max) + 40)/40\n",
        "\n",
        "    return mel_db.T"
      ],
      "execution_count": 0,
      "outputs": []
    },
    {
      "cell_type": "code",
      "metadata": {
        "id": "6U3htd2s1LR2",
        "colab_type": "code",
        "colab": {}
      },
      "source": [
        "def load_audio_file(file_path, input_length=input_length):\n",
        "    data = librosa.core.load(file_path, sr=16000)[0] \n",
        "    if len(data)>input_length:\n",
        "        \n",
        "        \n",
        "        max_offset = len(data)-input_length\n",
        "        \n",
        "        offset = np.random.randint(max_offset)\n",
        "        \n",
        "        data = data[offset:(input_length+offset)]\n",
        "        \n",
        "        \n",
        "    else:\n",
        "        if input_length > len(data):\n",
        "            max_offset = input_length - len(data)\n",
        "\n",
        "            offset = np.random.randint(max_offset)\n",
        "        else:\n",
        "            offset = 0\n",
        "        \n",
        "        \n",
        "        data = np.pad(data, (offset, input_length - len(data) - offset), \"constant\")\n",
        "        \n",
        "        \n",
        "    data = preprocess_audio_mel_T(data)\n",
        "    return data.reshape(32,320,1)\n"
      ],
      "execution_count": 0,
      "outputs": []
    },
    {
      "cell_type": "code",
      "metadata": {
        "id": "sNlKBLM2SYfY",
        "colab_type": "code",
        "colab": {}
      },
      "source": [
        "def load_raw_audio():\n",
        "    spk_1=[]\n",
        "    spk_2=[]\n",
        "    for filename in os.listdir(\"/content/drive/My Drive/spk_id/train/spk_1\"):\n",
        "        if filename.endswith(\"wav\"):\n",
        "            spk = \"/content/drive/My Drive/spk_id/train/spk_1/\"+filename\n",
        "            spk_1.append(spk)\n",
        "    for filename in os.listdir(\"/content/drive/My Drive/spk_id/train/spk_2\"):\n",
        "        if filename.endswith(\"wav\"):\n",
        "            spk = \"/content/drive/My Drive/spk_id/train/spk_2/\"+filename\n",
        "            spk_2.append(spk)\n",
        "    \n",
        "    return spk_1,spk_2"
      ],
      "execution_count": 0,
      "outputs": []
    },
    {
      "cell_type": "code",
      "metadata": {
        "id": "8D3XPlb4Sh3m",
        "colab_type": "code",
        "colab": {}
      },
      "source": [
        "spk_1, spk_2 = load_raw_audio()"
      ],
      "execution_count": 0,
      "outputs": []
    },
    {
      "cell_type": "code",
      "metadata": {
        "id": "9_LfTKBN1LOW",
        "colab_type": "code",
        "colab": {}
      },
      "source": [
        "x_audio=spk_1+spk_2\n",
        "y=[0]*len(spk_1)+[1]*len(spk_2)\n",
        "x_audio,y=shuffle(x_audio,y)"
      ],
      "execution_count": 0,
      "outputs": []
    },
    {
      "cell_type": "code",
      "metadata": {
        "id": "8IJrP5OA1LKl",
        "colab_type": "code",
        "colab": {}
      },
      "source": [
        "x=np.zeros((1099,32,320,1))\n",
        "for i in range(1099):\n",
        "  data=load_audio_file(x_audio[i])\n",
        "  x[i,:,:,:]=data"
      ],
      "execution_count": 0,
      "outputs": []
    },
    {
      "cell_type": "code",
      "metadata": {
        "id": "xiyn-3iKCvV5",
        "colab_type": "code",
        "outputId": "172b062b-f796-4922-e3b0-40ab706fef51",
        "colab": {
          "base_uri": "https://localhost:8080/",
          "height": 689
        }
      },
      "source": [
        "model = tf.keras.Sequential([\n",
        "                            tf.keras.layers.Conv2D(8, (3, 3), padding='same',input_shape=(32, 320, 1)),\n",
        "                            tf.keras.layers.Activation('relu'),\n",
        "                            tf.keras.layers.Conv2D(8, (3, 3)),\n",
        "                            tf.keras.layers.Activation('relu'),\n",
        "                            tf.keras.layers.MaxPooling2D(pool_size=(2, 2)),\n",
        "                            tf.keras.layers.Dropout(0.25),\n",
        "                            tf.keras.layers.Conv2D(16, (3, 3), padding='same'),\n",
        "                            tf.keras.layers.Activation('relu'),\n",
        "                            tf.keras.layers.Conv2D(16, (3, 3)),\n",
        "                            tf.keras.layers.Activation('relu'),\n",
        "                            tf.keras.layers.MaxPooling2D(pool_size=(2, 2)),\n",
        "                            tf.keras.layers.Flatten(),\n",
        "                            tf.keras.layers.Dense(57),\n",
        "                            tf.keras.layers.Activation('relu'),\n",
        "                            tf.keras.layers.Dense(1),\n",
        "                            tf.keras.layers.Activation('sigmoid')\n",
        "                            ])\n",
        "model.summary()"
      ],
      "execution_count": 0,
      "outputs": [
        {
          "output_type": "stream",
          "text": [
            "Model: \"sequential_2\"\n",
            "_________________________________________________________________\n",
            "Layer (type)                 Output Shape              Param #   \n",
            "=================================================================\n",
            "conv2d_8 (Conv2D)            (None, 32, 320, 8)        80        \n",
            "_________________________________________________________________\n",
            "activation_12 (Activation)   (None, 32, 320, 8)        0         \n",
            "_________________________________________________________________\n",
            "conv2d_9 (Conv2D)            (None, 30, 318, 8)        584       \n",
            "_________________________________________________________________\n",
            "activation_13 (Activation)   (None, 30, 318, 8)        0         \n",
            "_________________________________________________________________\n",
            "max_pooling2d_4 (MaxPooling2 (None, 15, 159, 8)        0         \n",
            "_________________________________________________________________\n",
            "dropout_2 (Dropout)          (None, 15, 159, 8)        0         \n",
            "_________________________________________________________________\n",
            "conv2d_10 (Conv2D)           (None, 15, 159, 16)       1168      \n",
            "_________________________________________________________________\n",
            "activation_14 (Activation)   (None, 15, 159, 16)       0         \n",
            "_________________________________________________________________\n",
            "conv2d_11 (Conv2D)           (None, 13, 157, 16)       2320      \n",
            "_________________________________________________________________\n",
            "activation_15 (Activation)   (None, 13, 157, 16)       0         \n",
            "_________________________________________________________________\n",
            "max_pooling2d_5 (MaxPooling2 (None, 6, 78, 16)         0         \n",
            "_________________________________________________________________\n",
            "flatten_2 (Flatten)          (None, 7488)              0         \n",
            "_________________________________________________________________\n",
            "dense_3 (Dense)              (None, 57)                426873    \n",
            "_________________________________________________________________\n",
            "activation_16 (Activation)   (None, 57)                0         \n",
            "_________________________________________________________________\n",
            "dense_4 (Dense)              (None, 1)                 58        \n",
            "_________________________________________________________________\n",
            "activation_17 (Activation)   (None, 1)                 0         \n",
            "=================================================================\n",
            "Total params: 431,083\n",
            "Trainable params: 431,083\n",
            "Non-trainable params: 0\n",
            "_________________________________________________________________\n"
          ],
          "name": "stdout"
        }
      ]
    },
    {
      "cell_type": "code",
      "metadata": {
        "id": "dPUR96v5EUIg",
        "colab_type": "code",
        "outputId": "20f66616-9bbe-4803-d939-62e5b1449aab",
        "colab": {
          "base_uri": "https://localhost:8080/",
          "height": 390
        }
      },
      "source": [
        "opt =tf.keras.optimizers.RMSprop(lr=0.0001, decay=1e-6)\n",
        "model.compile(loss='binary_crossentropy',\n",
        "              optimizer='adam',\n",
        "              metrics=['accuracy'])\n",
        "history=model.fit(x,y, epochs=10,validation_split=0.1,verbose=1)"
      ],
      "execution_count": 0,
      "outputs": [
        {
          "output_type": "stream",
          "text": [
            "Train on 989 samples, validate on 110 samples\n",
            "Epoch 1/10\n",
            "989/989 [==============================] - 1s 769us/sample - loss: 0.0199 - acc: 0.9970 - val_loss: 0.0165 - val_acc: 0.9818\n",
            "Epoch 2/10\n",
            "989/989 [==============================] - 0s 253us/sample - loss: 0.0482 - acc: 0.9889 - val_loss: 0.0087 - val_acc: 1.0000\n",
            "Epoch 3/10\n",
            "989/989 [==============================] - 0s 255us/sample - loss: 8.5715e-04 - acc: 1.0000 - val_loss: 0.0088 - val_acc: 1.0000\n",
            "Epoch 4/10\n",
            "989/989 [==============================] - 0s 251us/sample - loss: 7.1733e-04 - acc: 1.0000 - val_loss: 0.0053 - val_acc: 1.0000\n",
            "Epoch 5/10\n",
            "989/989 [==============================] - 0s 257us/sample - loss: 1.2515e-04 - acc: 1.0000 - val_loss: 0.0044 - val_acc: 1.0000\n",
            "Epoch 6/10\n",
            "989/989 [==============================] - 0s 256us/sample - loss: 1.4921e-04 - acc: 1.0000 - val_loss: 0.0040 - val_acc: 1.0000\n",
            "Epoch 7/10\n",
            "989/989 [==============================] - 0s 262us/sample - loss: 5.8603e-05 - acc: 1.0000 - val_loss: 0.0037 - val_acc: 1.0000\n",
            "Epoch 8/10\n",
            "989/989 [==============================] - 0s 259us/sample - loss: 1.0969e-04 - acc: 1.0000 - val_loss: 0.0039 - val_acc: 1.0000\n",
            "Epoch 9/10\n",
            "989/989 [==============================] - 0s 257us/sample - loss: 1.1788e-04 - acc: 1.0000 - val_loss: 0.0033 - val_acc: 1.0000\n",
            "Epoch 10/10\n",
            "989/989 [==============================] - 0s 249us/sample - loss: 4.1394e-05 - acc: 1.0000 - val_loss: 0.0031 - val_acc: 1.0000\n"
          ],
          "name": "stdout"
        }
      ]
    },
    {
      "cell_type": "code",
      "metadata": {
        "id": "Lqu4hY2OtWs-",
        "colab_type": "code",
        "outputId": "13587d81-d17e-4c9a-edd0-fd5d7ea7c288",
        "colab": {
          "base_uri": "https://localhost:8080/",
          "height": 606
        }
      },
      "source": [
        "import matplotlib.image  as mpimg\n",
        "import matplotlib.pyplot as plt\n",
        "\n",
        "#-----------------------------------------------------------\n",
        "# Retrieve a list of list results on training and test data\n",
        "# sets for each training epoch\n",
        "#-----------------------------------------------------------\n",
        "acc=history.history['acc']\n",
        "val_acc=history.history['val_acc']\n",
        "loss=history.history['loss']\n",
        "val_loss=history.history['val_loss']\n",
        "\n",
        "epochs=range(len(acc)) # Get number of epochs\n",
        "\n",
        "#------------------------------------------------\n",
        "# Plot training and validation accuracy per epoch\n",
        "#------------------------------------------------\n",
        "plt.plot(epochs, acc, 'r')\n",
        "plt.plot(epochs, val_acc, 'b')\n",
        "plt.title('Training and validation accuracy')\n",
        "plt.xlabel(\"Epochs\")\n",
        "plt.ylabel(\"Accuracy\")\n",
        "plt.legend([\"Accuracy\", \"Validation Accuracy\"])\n",
        "\n",
        "plt.figure()\n",
        "\n",
        "#------------------------------------------------\n",
        "# Plot training and validation loss per epoch\n",
        "#------------------------------------------------\n",
        "plt.plot(epochs, loss, 'r')\n",
        "plt.plot(epochs, val_loss, 'b')\n",
        "plt.title('Training and validation loss')\n",
        "plt.xlabel(\"Epochs\")\n",
        "plt.ylabel(\"Loss\")\n",
        "plt.legend([\"Loss\", \"Validation Loss\"])\n",
        "\n",
        "plt.figure()\n",
        "\n",
        "\n",
        "# Expected Output\n",
        "# A chart where the validation loss does not increase sharply!"
      ],
      "execution_count": 0,
      "outputs": [
        {
          "output_type": "execute_result",
          "data": {
            "text/plain": [
              "<Figure size 432x288 with 0 Axes>"
            ]
          },
          "metadata": {
            "tags": []
          },
          "execution_count": 110
        },
        {
          "output_type": "display_data",
          "data": {
            "image/png": "[encoded data removed]",
            "text/plain": [
              "<Figure size 432x288 with 1 Axes>"
            ]
          },
          "metadata": {
            "tags": []
          }
        },
        {
          "output_type": "display_data",
          "data": {
            "image/png": "[encoded data removed]",
            "text/plain": [
              "<Figure size 432x288 with 1 Axes>"
            ]
          },
          "metadata": {
            "tags": []
          }
        },
        {
          "output_type": "display_data",
          "data": {
            "text/plain": [
              "<Figure size 432x288 with 0 Axes>"
            ]
          },
          "metadata": {
            "tags": []
          }
        }
      ]
    },
    {
      "cell_type": "code",
      "metadata": {
        "id": "cGutrFMN9JeB",
        "colab_type": "code",
        "colab": {}
      },
      "source": [
        "def load_raw_audio_test():\n",
        "    spk_1=[]\n",
        "    spk_2=[]\n",
        "    for filename in os.listdir(\"/content/drive/My Drive/spk_id/test/spk_1\"):\n",
        "        if filename.endswith(\"wav\"):\n",
        "            spk = \"/content/drive/My Drive/spk_id/test/spk_1/\"+filename\n",
        "            spk_1.append(spk)\n",
        "    for filename in os.listdir(\"/content/drive/My Drive/spk_id/test/spk_2\"):\n",
        "        if filename.endswith(\"wav\"):\n",
        "            spk = \"/content/drive/My Drive/spk_id/test/spk_2/\"+filename\n",
        "            spk_2.append(spk)\n",
        "    \n",
        "    return spk_1,spk_2"
      ],
      "execution_count": 0,
      "outputs": []
    },
    {
      "cell_type": "code",
      "metadata": {
        "id": "pcMCimwm-T3A",
        "colab_type": "code",
        "colab": {}
      },
      "source": [
        "spk_1_test, spk_2_test = load_raw_audio_test()"
      ],
      "execution_count": 0,
      "outputs": []
    },
    {
      "cell_type": "code",
      "metadata": {
        "id": "gLXI0Fpb-YI7",
        "colab_type": "code",
        "colab": {}
      },
      "source": [
        "x_audio_test=spk_1_test+spk_2_test\n",
        "y_test=[0]*len(spk_1_test)+[1]*len(spk_2_test)"
      ],
      "execution_count": 0,
      "outputs": []
    },
    {
      "cell_type": "code",
      "metadata": {
        "id": "E8ohcKLc-cBX",
        "colab_type": "code",
        "colab": {}
      },
      "source": [
        "x_test=np.zeros((20,32,320,1))\n",
        "for i in range(20):\n",
        "  data=load_audio_file(x_audio_test[i])\n",
        "  x_test[i,:,:,:]=data"
      ],
      "execution_count": 0,
      "outputs": []
    },
    {
      "cell_type": "code",
      "metadata": {
        "id": "JPiJ4fSs-qmK",
        "colab_type": "code",
        "colab": {}
      },
      "source": [
        "y_test=np.array(y_test)"
      ],
      "execution_count": 0,
      "outputs": []
    },
    {
      "cell_type": "code",
      "metadata": {
        "id": "BPvAihGN-0DA",
        "colab_type": "code",
        "colab": {}
      },
      "source": [
        "score = model.evaluate(x_test, y_test, verbose=0)"
      ],
      "execution_count": 0,
      "outputs": []
    },
    {
      "cell_type": "code",
      "metadata": {
        "id": "GMMHmHrs-0jn",
        "colab_type": "code",
        "outputId": "c4205f99-fab5-413e-e707-4f45c16d0203",
        "colab": {
          "base_uri": "https://localhost:8080/",
          "height": 34
        }
      },
      "source": [
        "print(\"%s: %.2f%%\" % (model.metrics_names[1], score[1]*100))"
      ],
      "execution_count": 0,
      "outputs": [
        {
          "output_type": "stream",
          "text": [
            "acc: 100.00%\n"
          ],
          "name": "stdout"
        }
      ]
    },
    {
      "cell_type": "code",
      "metadata": {
        "id": "UAgT_71S-2cg",
        "colab_type": "code",
        "colab": {}
      },
      "source": [
        ""
      ],
      "execution_count": 0,
      "outputs": []
    }
  ]
}